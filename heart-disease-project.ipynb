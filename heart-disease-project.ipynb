{
 "cells": [
  {
   "cell_type": "markdown",
   "id": "eedebf8c",
   "metadata": {},
   "source": [
    "# Heart Disease Classification Project\n",
    "\n",
    "On this project im gonna build a machine learning model capable of predicting whether or not someone has heart disease based on their medical attributes.  \n",
    "\n",
    "#### 💾 Dataset\n",
    "We're using the UCI Heart Disease Dataset from kaggle  \n",
    "🔗 [Heart Disease UCI](https://www.kaggle.com/datasets/redwankarimsony/heart-disease-data?select=heart_disease_uci.csv)  \n",
    "\n",
    "#### Features\n",
    "`id` (Unique id for each patient)  \n",
    "`age` (Age of the patient in years)  \n",
    "`origin` (place of study)  \n",
    "`sex` (Male/Female)  \n",
    "`cp` chest pain type ([typical angina, atypical angina, non-anginal, asymptomatic])  \n",
    "`trestbps` resting blood pressure (resting blood pressure (in mm Hg on admission to the hospital))  \n",
    "`chol` (serum cholesterol in mg/dl)  \n",
    "`fbs` (if fasting blood sugar > 120 mg/dl)  \n",
    "`restecg` (resting electrocardiographic results)\n",
    "-- Values: [normal, stt abnormality, lv hypertrophy]  \n",
    "`thalach:` maximum heart rate achieved  \n",
    "`exang:` exercise-induced angina (True/ False)   \n",
    "`oldpeak:` ST depression induced by exercise relative to rest  \n",
    "`slope:` the slope of the peak exercise ST segment  \n",
    "`ca:` number of major vessels (0-3) colored by fluoroscopy  \n",
    "`thal:` [normal; fixed defect; reversible defect]  \n",
    "`num:` the predicted attribute    \n",
    "\n",
    "So let's get to it...  "
   ]
  },
  {
   "cell_type": "markdown",
   "id": "30b4cece",
   "metadata": {},
   "source": []
  }
 ],
 "metadata": {
  "language_info": {
   "name": "python"
  }
 },
 "nbformat": 4,
 "nbformat_minor": 5
}
